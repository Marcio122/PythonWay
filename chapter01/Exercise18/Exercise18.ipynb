{
 "cells": [
  {
   "cell_type": "code",
   "execution_count": 3,
   "id": "ac05d4ab",
   "metadata": {},
   "outputs": [
    {
     "name": "stdout",
     "output_type": "stream",
     "text": [
      "Enter a number to see if it's a perfect square.\n"
     ]
    }
   ],
   "source": [
    "print('Enter a number to see if it\\'s a perfect square.')"
   ]
  },
  {
   "cell_type": "code",
   "execution_count": 4,
   "id": "77b4b8e8",
   "metadata": {},
   "outputs": [],
   "source": [
    "number = input()"
   ]
  },
  {
   "cell_type": "code",
   "execution_count": 5,
   "id": "722d7237",
   "metadata": {},
   "outputs": [],
   "source": [
    "number = abs(int(number))"
   ]
  },
  {
   "cell_type": "code",
   "execution_count": 6,
   "id": "bb7dfc1a",
   "metadata": {},
   "outputs": [],
   "source": [
    "i = -1"
   ]
  },
  {
   "cell_type": "code",
   "execution_count": 7,
   "id": "52ecc655",
   "metadata": {},
   "outputs": [],
   "source": [
    "square = False"
   ]
  }
 ],
 "metadata": {
  "kernelspec": {
   "display_name": "Python 3 (ipykernel)",
   "language": "python",
   "name": "python3"
  },
  "language_info": {
   "codemirror_mode": {
    "name": "ipython",
    "version": 3
   },
   "file_extension": ".py",
   "mimetype": "text/x-python",
   "name": "python",
   "nbconvert_exporter": "python",
   "pygments_lexer": "ipython3",
   "version": "3.11.8"
  }
 },
 "nbformat": 4,
 "nbformat_minor": 5
}
